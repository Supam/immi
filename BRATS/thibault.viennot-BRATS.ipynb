{
  "cells": [
    {
      "cell_type": "code",
      "execution_count": 37,
      "metadata": {
        "id": "4ylvpMZJkquF"
      },
      "outputs": [],
      "source": [
        "import os\n",
        "import numpy as np\n",
        "import pandas as pd\n",
        "import matplotlib.pyplot as plt\n",
        "import SimpleITK as sitk\n",
        "\n",
        "from tqdm import tqdm\n",
        "\n",
        "from keras.utils import to_categorical\n",
        "from keras.models import Model, load_model, Sequential\n",
        "from keras.layers import MaxPooling2D, Conv2D, BatchNormalization, Input, Dropout, Conv2DTranspose, Add\n",
        "from keras.optimizers import Adam\n",
        "from keras.callbacks import CSVLogger\n",
        "from keras import backend as K\n",
        "\n",
        "from sklearn.model_selection import train_test_split"
      ]
    },
    {
      "cell_type": "code",
      "execution_count": 38,
      "metadata": {
        "colab": {
          "base_uri": "https://localhost:8080/"
        },
        "id": "pa36hvzhlADc",
        "outputId": "142d0dbb-fdd2-4cb2-feb8-fb261043b2d2"
      },
      "outputs": [
        {
          "name": "stderr",
          "output_type": "stream",
          "text": [
            "100%|██████████| 12/12 [00:01<00:00,  9.76it/s]\n"
          ]
        }
      ],
      "source": [
        "# Load Data into corresponding array\n",
        "\n",
        "def load_data(path: str):\n",
        "  dir = sorted(os.listdir(path))\n",
        "  data = []\n",
        "  gt = []\n",
        "\n",
        "  for patient in tqdm(dir):\n",
        "    current_path = path + patient + '/'\n",
        "    data_list = sorted(os.listdir(current_path))\n",
        "\n",
        "    tmp_img = sitk.ReadImage(current_path + data_list[0])\n",
        "    flair = sitk.GetArrayFromImage(tmp_img)\n",
        "\n",
        "    tmp_img = sitk.ReadImage(current_path + data_list[1])\n",
        "    seg = sitk.GetArrayFromImage(tmp_img)\n",
        "\n",
        "    tmp_img = sitk.ReadImage(current_path + data_list[2])\n",
        "    t1 = sitk.GetArrayFromImage(tmp_img)\n",
        "\n",
        "    tmp_img = sitk.ReadImage(current_path + data_list[3])\n",
        "    t1ce = sitk.GetArrayFromImage(tmp_img)\n",
        "\n",
        "    tmp_img = sitk.ReadImage(current_path + data_list[4])\n",
        "    t2 = sitk.GetArrayFromImage(tmp_img)\n",
        "\n",
        "    data.append([flair, t1, t1ce, t2])\n",
        "    gt.append(seg)\n",
        "\n",
        "  data = np.asarray(data, dtype = np.float32)\n",
        "  gt = np.asarray(gt, dtype = np.uint8)\n",
        "  return data, gt\n",
        "\n",
        "\n",
        "data, gt = load_data(\"Dataset/\")\n",
        "\n"
      ]
    },
    {
      "cell_type": "code",
      "execution_count": 39,
      "metadata": {
        "id": "MDCD0wJqk7Vj"
      },
      "outputs": [],
      "source": [
        "# Reorganise the data\n",
        "data = np.transpose(data, (0, 2, 3, 4, 1))"
      ]
    },
    {
      "cell_type": "code",
      "execution_count": 40,
      "metadata": {
        "id": "aXI9K6vMmfZN"
      },
      "outputs": [],
      "source": [
        "# Filter the unusuable slices out of the images\n",
        "data = data[:, 30:120, 30:222, 30:222, :].reshape([-1, 192, 192, 4])   \n",
        "\n",
        "gt = gt[:, 30:120, 30:222, 30:222].reshape([-1, 192, 192, 1])\n",
        "gt[np.where(gt == 4)] = 3"
      ]
    },
    {
      "cell_type": "code",
      "execution_count": 41,
      "metadata": {
        "id": "evUh9HfQmwdj"
      },
      "outputs": [],
      "source": [
        "# Just as in the ISEG challenge we create a training, validation and test arrays\n",
        "XTRAIN, XTEST, YTRAIN, YTEST = train_test_split(data, gt, test_size = 0.2, random_state = 69)\n",
        "XTRAIN, XVAL, YTRAIN, YVAL = train_test_split(XTRAIN, YTRAIN, test_size = 0.25, random_state = 69)"
      ]
    },
    {
      "cell_type": "code",
      "execution_count": 42,
      "metadata": {
        "id": "1CJnaaAOm3QG"
      },
      "outputs": [],
      "source": [
        "# We label each image\n",
        "YTRAIN = to_categorical(YTRAIN)\n",
        "YVAL = to_categorical(YVAL)"
      ]
    },
    {
      "cell_type": "code",
      "execution_count": 43,
      "metadata": {},
      "outputs": [],
      "source": [
        "# We normalize the images for pre-processing\n",
        "XTRAIN = (XTRAIN - np.mean(XTRAIN)) / np.max(XTRAIN)\n",
        "XTEST = (XTEST - np.mean(XTEST)) / np.max(XTEST)\n",
        "XVAL = (XVAL - np.mean(XVAL)) / np.max(XVAL)"
      ]
    },
    {
      "cell_type": "code",
      "execution_count": 44,
      "metadata": {
        "id": "nXd2ja41nD7I"
      },
      "outputs": [],
      "source": [
        "# Functions to get the dice coeficients\n",
        "def dice_coef(y_true, y_pred, epsilon = 1e-6):\n",
        "    intersection = K.sum(K.abs(y_true * y_pred), axis = -1)\n",
        "    return (2. * intersection) / (K.sum(K.square(y_true), axis = -1) + K.sum(K.square(y_pred), axis = -1) + epsilon)\n",
        "\n",
        "def dice_coef_loss(y_true, y_pred):\n",
        "    return 1 - dice_coef(y_true, y_pred)"
      ]
    },
    {
      "attachments": {},
      "cell_type": "markdown",
      "metadata": {
        "id": "PY7OzX986JfN"
      },
      "source": [
        "# Encoding / Decoding Neural Network\n",
        "I have based this neural network on the following paper, the detailed explanation of how it works can be found here\n",
        "https://scholar.google.com/scholar_url?url=https://www.mdpi.com/2075-4418/11/2/169/pdf&hl=en&sa=X&ei=-einZOmRJ92Sy9YP2fyhwAg&scisig=ABFrs3yeUhayVRfJMdM5VFI6lb78&oi=scholarr"
      ]
    },
    {
      "cell_type": "code",
      "execution_count": 45,
      "metadata": {},
      "outputs": [],
      "source": [
        "# Fist encoder\n",
        "\n",
        "input_shape = Input(shape = (192, 192, 4))\n",
        "\n",
        "encoder_1_conv_1 = Conv2D(32, 3, padding = 'same', activation = 'relu') (input_shape)\n",
        "encoder_1_norm_1 = BatchNormalization() (encoder_1_conv_1)\n",
        "encoder_1_conv_2 = Conv2D(32, 3, padding = 'same', activation = 'relu') (encoder_1_norm_1)\n",
        "encoder_1_norm_2 = BatchNormalization() (encoder_1_conv_2)\n",
        "encoder_1_pool_1  = MaxPooling2D() (encoder_1_norm_2)\n",
        "encoder_1_conv_3 = Conv2D(64, 3, padding = 'same', activation = 'relu') (encoder_1_pool_1)\n",
        "encoder_1_norm_3 = BatchNormalization() (encoder_1_conv_3)\n",
        "encoder_1_conv_4 = Conv2D(64, 3, padding = 'same', activation = 'relu') (encoder_1_norm_3)\n",
        "encoder_1_norm_4 = BatchNormalization() (encoder_1_conv_4)\n",
        "encoder_1_pool_2  = MaxPooling2D() (encoder_1_norm_4)\n",
        "encoder_1_conv_5 = Conv2D(128, 3, padding = 'same', activation = 'relu') (encoder_1_pool_2)\n",
        "encoder_1_norm_5 = BatchNormalization() (encoder_1_conv_5)\n",
        "encoder_1_conv_6 = Conv2D(128, 3, padding = 'same', activation = 'relu') (encoder_1_norm_5)\n",
        "encoder_1_norm_6 = BatchNormalization() (encoder_1_conv_6)\n",
        "encoder_1_pool_3  = MaxPooling2D() (encoder_1_norm_6)\n",
        "\n",
        "encoder_1_dropout_1 = Dropout(0.2) (encoder_1_pool_3)\n",
        "\n",
        "encoder_1_conv_7 = Conv2D(256, 3, padding = 'same', activation = 'relu') (encoder_1_dropout_1)\n",
        "encoder_1_norm_7 = BatchNormalization() (encoder_1_conv_7)\n",
        "encoder_1_conv_8 = Conv2D(256, 3, padding = 'same', activation = 'relu') (encoder_1_norm_7)\n",
        "encoder_1_norm_8 = BatchNormalization() (encoder_1_conv_8)\n",
        "encoder_1_pool_3  = MaxPooling2D() (encoder_1_norm_8)\n",
        "encoder_1_conv_9 = Conv2D(512, 3, padding = 'same', activation = 'relu') (encoder_1_pool_3)\n",
        "encoder_1_norm_9 = BatchNormalization() (encoder_1_conv_9)\n",
        "encoder_1_conv_10 = Conv2D(512, 3, padding = 'same', activation = 'relu') (encoder_1_norm_9)\n",
        "encoder_1_norm_10 = BatchNormalization() (encoder_1_conv_10)\n",
        "encoder_1_pool_4  = MaxPooling2D() (encoder_1_norm_10)\n",
        "encoder_1_conv_11 = Conv2D(1024, 3, padding = 'same', activation = 'relu') (encoder_1_pool_4)"
      ]
    },
    {
      "cell_type": "code",
      "execution_count": 46,
      "metadata": {
        "colab": {
          "base_uri": "https://localhost:8080/"
        },
        "id": "ZDpLcyAWnN_l",
        "outputId": "9bc650a9-6d69-4c98-897b-d60861950516"
      },
      "outputs": [],
      "source": [
        "# First decoder\n",
        "decoder_1_up_1 = Conv2DTranspose(512, 3, strides = (2, 2), padding = 'same', activation = 'relu') (encoder_1_conv_11)\n",
        "decoder_1_merge_1 = Add() ([encoder_1_norm_9, encoder_1_norm_10, decoder_1_up_1])\n",
        "decoder_1_conv_1 = Conv2D(512, 3, padding = 'same', activation = 'relu') (decoder_1_merge_1)\n",
        "decoder_1_up_2 = Conv2DTranspose(256, 3, strides = (2, 2), padding = 'same', activation = 'relu') (decoder_1_conv_1)\n",
        "decoder_1_merge_2 = Add() ([encoder_1_norm_7, encoder_1_norm_8, decoder_1_up_2])\n",
        "decoder_1_conv_2 = Conv2D(256, 3, padding = 'same', activation = 'relu') (decoder_1_merge_2)\n",
        "\n",
        "decoder_1_dropout_1 = Dropout(0.2) (decoder_1_conv_2)\n",
        "\n",
        "decoder_1_up_3 = Conv2DTranspose(128, 3, strides = (2, 2), padding = 'same', activation = 'relu') (decoder_1_dropout_1)\n",
        "decoder_1_merge_3 = Add() ([encoder_1_norm_5, encoder_1_norm_6 , decoder_1_up_3])\n",
        "decoder_1_conv_3 = Conv2D(128, 3, padding = 'same', activation = 'relu') (decoder_1_merge_3)\n",
        "decoder_1_up_4 = Conv2DTranspose(64, 3, strides = (2, 2), padding = 'same', activation = 'relu') (decoder_1_conv_3)\n",
        "decoder_1_merge_4 = Add() ([encoder_1_norm_3, encoder_1_norm_3, decoder_1_up_4])\n",
        "decoder_1_conv_4 = Conv2D(64, 3, padding = 'same', activation = 'relu') (decoder_1_merge_4)\n",
        "decoder_1_up_5 = Conv2DTranspose(32, 3, strides = (2, 2), padding = 'same', activation = 'relu') (decoder_1_conv_4)\n",
        "decoder_1_merge_5 = Add() ([encoder_1_norm_1, encoder_1_norm_2 , decoder_1_up_5])\n",
        "decoder_1_conv_5 = Conv2D(32, 3, padding = 'same', activation = 'relu') (decoder_1_merge_5)"
      ]
    },
    {
      "cell_type": "code",
      "execution_count": 47,
      "metadata": {},
      "outputs": [],
      "source": [
        "# Second encoder\n",
        "encoder_2_conv_1 = Conv2D(32, 3, padding = 'same', activation = 'relu') (decoder_1_conv_5)\n",
        "encoder_2_norm_1 = BatchNormalization() (encoder_2_conv_1)\n",
        "encoder_2_conv_2 = Conv2D(32, 3, padding = 'same', activation = 'relu') (encoder_2_norm_1)\n",
        "encoder_2_norm_2 = BatchNormalization() (encoder_2_conv_2)\n",
        "encoder_2_pool_1  = MaxPooling2D() (encoder_2_norm_2)\n",
        "\n",
        "encoder_2_conv_3 = Conv2D(64, 3, padding = 'same', activation = 'relu') (encoder_2_pool_1)\n",
        "encoder_2_norm_3 = BatchNormalization() (encoder_2_conv_3)\n",
        "encoder_2_conv_4 = Conv2D(64, 3, padding = 'same', activation = 'relu') (encoder_2_norm_3)\n",
        "encoder_2_norm_4 = BatchNormalization() (encoder_2_conv_4)\n",
        "encoder_2_pool_2  = MaxPooling2D() (encoder_2_norm_4)\n",
        "\n",
        "encoder_2_conv_5 = Conv2D(128, 3, padding = 'same', activation = 'relu') (encoder_2_pool_2)\n",
        "encoder_2_norm_5 = BatchNormalization() (encoder_2_conv_5)\n",
        "encoder_2_conv_6 = Conv2D(128, 3, padding = 'same', activation = 'relu') (encoder_2_norm_5)\n",
        "encoder_2_norm_6 = BatchNormalization() (encoder_2_conv_6)\n",
        "encoder_2_pool_3  = MaxPooling2D() (encoder_2_norm_6)\n",
        "\n",
        "encoder_2_dropout_1 = Dropout(0.2) (encoder_2_pool_3)\n",
        "\n",
        "encoder_2_conv_7 = Conv2D(256, 3, padding = 'same', activation = 'relu') (encoder_2_dropout_1)\n",
        "encoder_2_norm_7 = BatchNormalization() (encoder_2_conv_7)\n",
        "encoder_2_conv_8 = Conv2D(256, 3, padding = 'same', activation = 'relu') (encoder_2_norm_7)\n",
        "encoder_2_norm_8 = BatchNormalization() (encoder_2_conv_8)\n",
        "encoder_2_pool_3  = MaxPooling2D() (encoder_2_norm_8)\n",
        "\n",
        "encoder_2_conv_9 = Conv2D(512, 3, padding = 'same', activation = 'relu') (encoder_2_pool_3)\n",
        "encoder_2_norm_9 = BatchNormalization() (encoder_2_conv_9)\n",
        "encoder_2_conv_10 = Conv2D(512, 3, padding = 'same', activation = 'relu') (encoder_2_norm_9)\n",
        "encoder_2_norm_10 = BatchNormalization() (encoder_2_conv_10)\n",
        "encoder_2_pool_4  = MaxPooling2D() (encoder_2_norm_10)\n",
        "\n",
        "encoder_2_conv_11 = Conv2D(1024, 3, padding = 'same', activation = 'relu') (encoder_2_pool_4)"
      ]
    },
    {
      "cell_type": "code",
      "execution_count": 48,
      "metadata": {},
      "outputs": [],
      "source": [
        "# Second decoder\n",
        "decoder_2_up_1 = Conv2DTranspose(512, 3, strides = (2, 2), padding = 'same', activation = 'relu') (encoder_2_conv_11)\n",
        "decoder_2_merge_1 = Add() ([encoder_2_norm_9, encoder_2_norm_10, decoder_2_up_1])\n",
        "decoder_2_conv_1 = Conv2D(512, 3, padding = 'same', activation = 'relu') (decoder_2_merge_1)\n",
        "decoder_2_up_2 = Conv2DTranspose(256, 3, strides = (2, 2), padding = 'same', activation = 'relu') (decoder_2_conv_1)\n",
        "decoder_2_merge_2 = Add() ([encoder_2_norm_7, encoder_2_norm_8, decoder_2_up_2])\n",
        "decoder_2_conv_2 = Conv2D(256, 3, padding = 'same', activation = 'relu') (decoder_2_merge_2)\n",
        "\n",
        "decoder_2_dropout_1 = Dropout(0.2) (decoder_2_conv_2)\n",
        "\n",
        "decoder_2_up_3 = Conv2DTranspose(128, 3, strides = (2, 2), padding = 'same', activation = 'relu') (decoder_2_dropout_1)\n",
        "decoder_2_merge_3 = Add() ([encoder_2_norm_5, encoder_2_norm_6 , decoder_2_up_3])\n",
        "decoder_2_conv_3 = Conv2D(128, 3, padding = 'same', activation = 'relu') (decoder_2_merge_3)\n",
        "decoder_2_up_4 = Conv2DTranspose(64, 3, strides = (2, 2), padding = 'same', activation = 'relu') (decoder_2_conv_3)\n",
        "decoder_2_merge_4 = Add() ([encoder_2_norm_3, encoder_2_norm_3, decoder_2_up_4])\n",
        "decoder_2_conv_4 = Conv2D(64, 3, padding = 'same', activation = 'relu') (decoder_2_merge_4)\n",
        "decoder_2_up_5 = Conv2DTranspose(32, 3, strides = (2, 2), padding = 'same', activation = 'relu') (decoder_2_conv_4)\n",
        "decoder_2_merge_5 = Add() ([encoder_2_norm_1, encoder_2_norm_2 , decoder_2_up_5])\n",
        "decoder_2_conv_5 = Conv2D(32, 3, padding = 'same', activation = 'relu') (decoder_2_merge_5)\n",
        "\n",
        "pre_output = Conv2D(32, 1, padding = 'same', activation = 'relu') (decoder_2_merge_5)\n",
        "output = Conv2D(4, 1, padding = 'same', activation = 'softmax') (pre_output)"
      ]
    },
    {
      "cell_type": "code",
      "execution_count": 49,
      "metadata": {},
      "outputs": [],
      "source": [
        "# Final model \n",
        "model = Model(inputs = input_shape, outputs = output)"
      ]
    },
    {
      "cell_type": "code",
      "execution_count": 50,
      "metadata": {
        "id": "0fSbzYU1nUUI"
      },
      "outputs": [],
      "source": [
        "# Compile the model\n",
        "model.compile(optimizer = Adam(learning_rate = 1e-4), loss = 'binary_crossentropy', metrics = ['accuracy'])\n",
        "\n",
        "# Load pre trained model\n",
        "# model = load_model('saved_model/my_model')\n",
        "model.load_weights('pretrained_weights/NN-Weights-3.h5')\n"
      ]
    },
    {
      "cell_type": "code",
      "execution_count": 52,
      "metadata": {},
      "outputs": [
        {
          "name": "stdout",
          "output_type": "stream",
          "text": [
            "Epoch 1/20\n",
            "81/81 [==============================] - 209s 3s/step - loss: 0.2229 - accuracy: 0.8815 - val_loss: 0.1472 - val_accuracy: 0.9729\n",
            "Epoch 2/20\n",
            "81/81 [==============================] - 192s 2s/step - loss: 0.0300 - accuracy: 0.9797 - val_loss: 0.3048 - val_accuracy: 0.9730\n",
            "Epoch 3/20\n",
            "81/81 [==============================] - 193s 2s/step - loss: 0.0222 - accuracy: 0.9827 - val_loss: 0.2889 - val_accuracy: 0.9730\n",
            "Epoch 4/20\n",
            "81/81 [==============================] - 194s 2s/step - loss: 0.0178 - accuracy: 0.9852 - val_loss: 0.0896 - val_accuracy: 0.9730\n",
            "Epoch 5/20\n",
            "81/81 [==============================] - 196s 2s/step - loss: 0.0151 - accuracy: 0.9875 - val_loss: 0.1459 - val_accuracy: 0.9730\n",
            "Epoch 6/20\n",
            "81/81 [==============================] - 194s 2s/step - loss: 0.0132 - accuracy: 0.9898 - val_loss: 0.0506 - val_accuracy: 0.9774\n",
            "Epoch 7/20\n",
            "81/81 [==============================] - 192s 2s/step - loss: 0.0130 - accuracy: 0.9905 - val_loss: 0.0321 - val_accuracy: 0.9839\n",
            "Epoch 8/20\n",
            "81/81 [==============================] - 193s 2s/step - loss: 0.0100 - accuracy: 0.9928 - val_loss: 0.0154 - val_accuracy: 0.9896\n",
            "Epoch 9/20\n",
            "81/81 [==============================] - 191s 2s/step - loss: 0.0093 - accuracy: 0.9932 - val_loss: 0.0088 - val_accuracy: 0.9935\n",
            "Epoch 10/20\n",
            "81/81 [==============================] - 191s 2s/step - loss: 0.0076 - accuracy: 0.9945 - val_loss: 0.0070 - val_accuracy: 0.9948\n",
            "Epoch 11/20\n",
            "81/81 [==============================] - 194s 2s/step - loss: 0.0072 - accuracy: 0.9947 - val_loss: 0.0068 - val_accuracy: 0.9949\n",
            "Epoch 12/20\n",
            "81/81 [==============================] - 191s 2s/step - loss: 0.0064 - accuracy: 0.9953 - val_loss: 0.0064 - val_accuracy: 0.9953\n",
            "Epoch 13/20\n",
            "81/81 [==============================] - 192s 2s/step - loss: 0.0064 - accuracy: 0.9952 - val_loss: 0.0063 - val_accuracy: 0.9954\n",
            "Epoch 14/20\n",
            "81/81 [==============================] - 193s 2s/step - loss: 0.0063 - accuracy: 0.9953 - val_loss: 0.0063 - val_accuracy: 0.9953\n",
            "Epoch 15/20\n",
            "81/81 [==============================] - 192s 2s/step - loss: 0.0061 - accuracy: 0.9954 - val_loss: 0.0066 - val_accuracy: 0.9952\n",
            "Epoch 16/20\n",
            "81/81 [==============================] - 192s 2s/step - loss: 0.0055 - accuracy: 0.9958 - val_loss: 0.0052 - val_accuracy: 0.9961\n",
            "Epoch 17/20\n",
            "81/81 [==============================] - 191s 2s/step - loss: 0.0052 - accuracy: 0.9961 - val_loss: 0.0057 - val_accuracy: 0.9957\n",
            "Epoch 18/20\n",
            "81/81 [==============================] - 188s 2s/step - loss: 0.0052 - accuracy: 0.9961 - val_loss: 0.0051 - val_accuracy: 0.9961\n",
            "Epoch 19/20\n",
            "81/81 [==============================] - 190s 2s/step - loss: 0.0049 - accuracy: 0.9962 - val_loss: 0.0057 - val_accuracy: 0.9958\n",
            "Epoch 20/20\n",
            "81/81 [==============================] - 193s 2s/step - loss: 0.0053 - accuracy: 0.9960 - val_loss: 0.0078 - val_accuracy: 0.9947\n"
          ]
        }
      ],
      "source": [
        "# Train the model and save the history\n",
        "# csv_logger = CSVLogger('training-3.log', separator = ',', append = False)\n",
        "# history = model.fit(XTRAIN, YTRAIN, batch_size = 8, epochs = 20, verbose = 1, validation_data = (XVAL, YVAL), shuffle = True, callbacks = [csv_logger])"
      ]
    },
    {
      "cell_type": "code",
      "execution_count": 53,
      "metadata": {},
      "outputs": [
        {
          "name": "stdout",
          "output_type": "stream",
          "text": [
            "INFO:tensorflow:Assets written to: saved_model/my_model-3/assets\n"
          ]
        },
        {
          "name": "stderr",
          "output_type": "stream",
          "text": [
            "INFO:tensorflow:Assets written to: saved_model/my_model-3/assets\n"
          ]
        }
      ],
      "source": [
        "# Save the model & weights\n",
        "# model.save('saved_model/my_model-3')\n",
        "# model.save_weights('pretrained_weights/NN-Weights-3.h5')"
      ]
    },
    {
      "cell_type": "code",
      "execution_count": 55,
      "metadata": {
        "colab": {
          "base_uri": "https://localhost:8080/",
          "height": 931
        },
        "id": "7I8M-nC93z9n",
        "outputId": "779b1d08-2523-41b7-b463-a41dc8bc1d62"
      },
      "outputs": [
        {
          "data": {
            "image/png": "[encoded data removed]",
            "text/plain": [
              "<Figure size 1200x500 with 2 Axes>"
            ]
          },
          "metadata": {},
          "output_type": "display_data"
        }
      ],
      "source": [
        "# Training history\n",
        "training_logs = pd.read_csv('training-3.log', sep = ',', engine = 'python')\n",
        "\n",
        "list_train_dice = training_logs['accuracy']\n",
        "list_validation_dice = training_logs['val_accuracy']\n",
        "\n",
        "list_train_loss = training_logs['loss']\n",
        "list_validation_loss = training_logs['val_loss']\n",
        "\n",
        "fig, axes = plt.subplots(1, 2, figsize = (12, 5))\n",
        "\n",
        "axes[0].plot(list_train_loss, 'r-', label = \"Train\")\n",
        "axes[0].plot(list_validation_loss, 'b-', label = \"Validation\")\n",
        "axes[0].set_xlabel('iteration')\n",
        "axes[0].set_ylabel('loss')\n",
        "axes[0].legend()\n",
        "axes[0].title.set_text('loss graph')\n",
        "\n",
        "axes[1].plot(list_train_dice, 'r-', label = \"Train\")\n",
        "axes[1].plot(list_validation_dice, 'b-', label = \"Validation\")\n",
        "axes[1].set_xlabel('iteration')\n",
        "axes[1].set_ylabel('accuracy')\n",
        "axes[1].legend()\n",
        "axes[1].title.set_text('accuracy graph')\n",
        "\n",
        "fig.show()\n"
      ]
    },
    {
      "attachments": {},
      "cell_type": "markdown",
      "metadata": {},
      "source": [
        "# Résultats"
      ]
    },
    {
      "cell_type": "code",
      "execution_count": 58,
      "metadata": {
        "id": "rs3Sa9OG2dIZ"
      },
      "outputs": [],
      "source": [
        "# Get Overall Results\n",
        "Y_test_encod = to_categorical(YTEST)\n",
        "train_result = model.evaluate(XTRAIN, YTRAIN, verbose = 0)\n",
        "test_result = model.evaluate(XTEST, Y_test_encod, verbose = 0)\n",
        "val_result = model.evaluate(XVAL, YVAL, verbose = 0)\n"
      ]
    },
    {
      "attachments": {},
      "cell_type": "markdown",
      "metadata": {},
      "source": [
        "\n",
        "Le tableau ci dessous, résume les performances de notre model sur les différents sets de data "
      ]
    },
    {
      "cell_type": "code",
      "execution_count": 59,
      "metadata": {},
      "outputs": [
        {
          "data": {
            "text/html": [
              "<div>\n",
              "<style scoped>\n",
              "    .dataframe tbody tr th:only-of-type {\n",
              "        vertical-align: middle;\n",
              "    }\n",
              "\n",
              "    .dataframe tbody tr th {\n",
              "        vertical-align: top;\n",
              "    }\n",
              "\n",
              "    .dataframe thead th {\n",
              "        text-align: right;\n",
              "    }\n",
              "</style>\n",
              "<table border=\"1\" class=\"dataframe\">\n",
              "  <thead>\n",
              "    <tr style=\"text-align: right;\">\n",
              "      <th></th>\n",
              "      <th>Loss</th>\n",
              "      <th>Dice Coefficient</th>\n",
              "    </tr>\n",
              "  </thead>\n",
              "  <tbody>\n",
              "    <tr>\n",
              "      <th>Train</th>\n",
              "      <td>0.0067898990</td>\n",
              "      <td>0.9949942231</td>\n",
              "    </tr>\n",
              "    <tr>\n",
              "      <th>Validation</th>\n",
              "      <td>0.0087538529</td>\n",
              "      <td>0.9937656522</td>\n",
              "    </tr>\n",
              "    <tr>\n",
              "      <th>Test</th>\n",
              "      <td>0.0077790329</td>\n",
              "      <td>0.9946595430</td>\n",
              "    </tr>\n",
              "  </tbody>\n",
              "</table>\n",
              "</div>"
            ],
            "text/plain": [
              "                    Loss  Dice Coefficient\n",
              "Train       0.0067898990      0.9949942231\n",
              "Validation  0.0087538529      0.9937656522\n",
              "Test        0.0077790329      0.9946595430"
            ]
          },
          "execution_count": 59,
          "metadata": {},
          "output_type": "execute_result"
        }
      ],
      "source": [
        "pd.set_option(\"display.precision\", 10)\n",
        "pd.DataFrame([train_result,test_result,val_result], columns = [\"Loss\", \"Dice Coefficient\"], index = [\"Train\", \"Validation\", \"Test\"] )\n"
      ]
    }
  ],
  "metadata": {
    "accelerator": "GPU",
    "colab": {
      "gpuType": "T4",
      "provenance": []
    },
    "kernelspec": {
      "display_name": "Python 3",
      "name": "python3"
    },
    "language_info": {
      "codemirror_mode": {
        "name": "ipython",
        "version": 3
      },
      "file_extension": ".py",
      "mimetype": "text/x-python",
      "name": "python",
      "nbconvert_exporter": "python",
      "pygments_lexer": "ipython3",
      "version": "3.8.10"
    }
  },
  "nbformat": 4,
  "nbformat_minor": 0
}
